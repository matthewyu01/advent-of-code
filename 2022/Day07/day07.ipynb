{
 "cells": [
  {
   "cell_type": "code",
   "execution_count": 1,
   "metadata": {},
   "outputs": [],
   "source": [
    "with open('input.txt','r') as f:\n",
    "    LINES = [line[:-1] for line in f.readlines()[1:]]\n",
    "with open('test.txt','r') as f:\n",
    "    test = [line[:-1] for line in f.readlines()[1:]]"
   ]
  },
  {
   "cell_type": "code",
   "execution_count": 2,
   "metadata": {},
   "outputs": [],
   "source": [
    "from collections import defaultdict"
   ]
  },
  {
   "cell_type": "code",
   "execution_count": 3,
   "metadata": {},
   "outputs": [
    {
     "name": "stdout",
     "output_type": "stream",
     "text": [
      "Part 1 Test Output: 95437\n",
      "Part 1 ACTUAL: 1391690\n"
     ]
    }
   ],
   "source": [
    "def part1(lines=LINES):\n",
    "    s = 0\n",
    "    dir = '/'\n",
    "    sizes = {} # path to num\n",
    "    children = defaultdict(set)\n",
    "    depth = defaultdict(int)\n",
    "    i=0\n",
    "    while i < len(lines):\n",
    "        l = lines[i]\n",
    "        cmds = l.split(' ')\n",
    "        depth[dir] = len(dir.split('/'))\n",
    "        if cmds[0] == '$':\n",
    "            cmd = cmds[1]\n",
    "            if cmd == 'ls':\n",
    "                num = 0\n",
    "                j = i + 1\n",
    "                while j < len(lines):\n",
    "                    spl = lines[j].split(' ')\n",
    "                    if spl[0] == '$':\n",
    "                        break\n",
    "                    elif spl[0] == 'dir': # listed child directory\n",
    "                        inner_dir = spl[1]\n",
    "                        if inner_dir not in children[dir]:\n",
    "                            child_directory = dir + inner_dir + '/'\n",
    "                            children[dir].add(child_directory)\n",
    "                    else:\n",
    "                        num += int(spl[0])\n",
    "                    j += 1\n",
    "\n",
    "                sizes[dir] = num\n",
    "                \n",
    "            elif cmd == 'cd':\n",
    "                new_dir = cmds[2]\n",
    "                if new_dir == '/':\n",
    "                    dir = '/'\n",
    "                elif new_dir == '..':\n",
    "                    #print(dir, 'parent')\n",
    "                    if dir == '/':\n",
    "                        continue\n",
    "                    else:\n",
    "                        dirs = dir.split('/')[:-2]\n",
    "                        dir = '/'.join(dirs) + '/'\n",
    "                else:\n",
    "                    dir += new_dir + '/'\n",
    "            #print(dir)\n",
    "        i += 1\n",
    "    \n",
    "    for dir,_ in sorted(depth.items(),key=lambda x:x[1],reverse = True): # deepest first\n",
    "        size = sizes[dir]\n",
    "        for inner in children[dir]:\n",
    "            size += sizes[inner]\n",
    "        sizes[dir] = size\n",
    "\n",
    "    s = 0\n",
    "    #print(sizes)\n",
    "    for dir in sizes:\n",
    "        if sizes[dir] <= 100000:\n",
    "            s += sizes[dir]\n",
    "    return s\n",
    "\n",
    "print(f'Part 1 Test Output: {part1(test)}' )\n",
    "print(f'Part 1 ACTUAL: {part1(LINES)}' )"
   ]
  },
  {
   "cell_type": "code",
   "execution_count": 4,
   "metadata": {},
   "outputs": [
    {
     "name": "stdout",
     "output_type": "stream",
     "text": [
      "Part 2 Test Output: 24933642\n",
      "Part 2 ACTUAL: 5469168\n"
     ]
    }
   ],
   "source": [
    "def part2(lines=LINES):\n",
    "    dir = '/'\n",
    "    sizes = {} #path to num\n",
    "    children = defaultdict(set)\n",
    "    depth = defaultdict(int)\n",
    "    i=0\n",
    "    \n",
    "    while i < len(lines):\n",
    "        l = lines[i]\n",
    "        cmds = l.split(' ')\n",
    "        depth[dir] = len(dir.split('/'))\n",
    "        if cmds[0] == '$':\n",
    "            cmd = cmds[1]\n",
    "            if cmd == 'ls':\n",
    "                num = 0\n",
    "                j = i + 1\n",
    "                while j < len(lines):\n",
    "                    spl = lines[j].split(' ')\n",
    "                    if spl[0] == '$':\n",
    "                        break\n",
    "                    elif spl[0] == 'dir': # listed child directory\n",
    "                        inner_dir = spl[1]\n",
    "                        if inner_dir not in children[dir]:\n",
    "                            child_directory = dir + inner_dir + '/'\n",
    "                            children[dir].add(child_directory)\n",
    "                    else:\n",
    "                        num += int(spl[0])\n",
    "                    j += 1\n",
    "\n",
    "                sizes[dir] = num\n",
    "                \n",
    "            elif cmd == 'cd':\n",
    "                new_dir = cmds[2]\n",
    "                if new_dir == '/':\n",
    "                    dir = '/'\n",
    "                elif new_dir == '..':\n",
    "                    #print(dir, 'parent')\n",
    "                    if dir == '/':\n",
    "                        continue\n",
    "                    else:\n",
    "                        dirs = dir.split('/')[:-2]\n",
    "                        dir = '/'.join(dirs) + '/'\n",
    "                else:\n",
    "                    dir += new_dir + '/'\n",
    "            #print(dir)\n",
    "        i += 1\n",
    "    \n",
    "    for dir,_ in sorted(depth.items(),key=lambda x:x[1],reverse = True): # deepest first\n",
    "        size = sizes[dir]\n",
    "        if children[dir] == 0:\n",
    "            pass\n",
    "        for inner in children[dir]:\n",
    "            size += sizes[inner]\n",
    "        sizes[dir] = size\n",
    "\n",
    "    s = 100000000\n",
    "    #print(sizes)\n",
    "    unused = 70_000_000 - sizes['/']\n",
    "    needed = 30_000_000 - unused\n",
    "    for dir in sizes:\n",
    "        if sizes[dir] > needed:\n",
    "            sz = sizes[dir]\n",
    "            s = min(s,sz)\n",
    "    return s\n",
    "\n",
    "print(f'Part 2 Test Output: {part2(test)}' )\n",
    "print(f'Part 2 ACTUAL: {part2(LINES)}' )"
   ]
  }
 ],
 "metadata": {
  "kernelspec": {
   "display_name": "Python 3.9.9 64-bit",
   "language": "python",
   "name": "python3"
  },
  "language_info": {
   "codemirror_mode": {
    "name": "ipython",
    "version": 3
   },
   "file_extension": ".py",
   "mimetype": "text/x-python",
   "name": "python",
   "nbconvert_exporter": "python",
   "pygments_lexer": "ipython3",
   "version": "3.9.9"
  },
  "orig_nbformat": 4,
  "vscode": {
   "interpreter": {
    "hash": "eb3e5f80766f8b140f5e88aeb0f63cfa666731890fd17e005b6327b46fa691ef"
   }
  }
 },
 "nbformat": 4,
 "nbformat_minor": 2
}
