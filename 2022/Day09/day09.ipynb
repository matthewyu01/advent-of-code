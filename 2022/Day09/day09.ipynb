{
 "cells": [
  {
   "cell_type": "code",
   "execution_count": 17,
   "metadata": {},
   "outputs": [],
   "source": [
    "with open('input.txt','r') as f:\n",
    "    LINES = [line[:-1] for line in f.readlines()]\n",
    "with open('test.txt','r') as f:\n",
    "    test = [line[:-1] for line in f.readlines()]"
   ]
  },
  {
   "cell_type": "code",
   "execution_count": 1,
   "metadata": {},
   "outputs": [],
   "source": [
    "from collections import defaultdict, Counter\n",
    "from heapq import  heapify, heappop"
   ]
  },
  {
   "cell_type": "code",
   "execution_count": 14,
   "metadata": {},
   "outputs": [
    {
     "name": "stdout",
     "output_type": "stream",
     "text": [
      "Part 1 Test Output: 13\n",
      "Part 1 ACTUAL: 6563\n"
     ]
    }
   ],
   "source": [
    "def part1(lines=LINES):\n",
    "    hr = 0\n",
    "    hc = 0\n",
    "    tr = 0\n",
    "    tc = 0\n",
    "    visited = {(0,0)}\n",
    "    diff = {'U': (-1,0), 'D': (1,0), 'R': (0,1), 'L': (0,-1)}\n",
    "    for l in lines:\n",
    "        dir, num = l.split(' ')\n",
    "        num = int(num)\n",
    "        # is diagonal\n",
    "        for _ in range(num):\n",
    "            delta_r, delta_c = diff[dir]\n",
    "            hr += delta_r\n",
    "            hc += delta_c\n",
    "\n",
    "            if abs(hr-tr) >=2:\n",
    "                if abs(hc-tc):\n",
    "                    # move diagonal\n",
    "                    tc = hc\n",
    "                \n",
    "                    # only move tr to be one closer\n",
    "                if hr > tr:\n",
    "                    tr += 1\n",
    "                else:\n",
    "                    tr -= 1\n",
    "\n",
    "            elif abs(hc-tc) >=2:\n",
    "                if abs(hr-tr):\n",
    "                    # move diagonal\n",
    "                    tr = hr\n",
    "\n",
    "                \n",
    "                    # only move tr to be one closer\n",
    "                if hc > tc:\n",
    "                    tc += 1\n",
    "                else:\n",
    "                    tc -= 1\n",
    "            visited.add((tr,tc))\n",
    "\n",
    "\n",
    "    return len(visited)\n",
    "\n",
    "print(f'Part 1 Test Output: {part1(test)}' )\n",
    "print(f'Part 1 ACTUAL: {part1(LINES)}' )\n",
    "\n",
    "\n"
   ]
  },
  {
   "cell_type": "code",
   "execution_count": 20,
   "metadata": {},
   "outputs": [
    {
     "name": "stdout",
     "output_type": "stream",
     "text": [
      "Part 1 Test Output: 36\n",
      "Part 1 ACTUAL: 2653\n"
     ]
    }
   ],
   "source": [
    "def part1(lines=LINES):\n",
    "    hr = hc = 0\n",
    "    knots =  [[0,0] for _ in range(10)]\n",
    "\n",
    "    visited = {(0,0)}\n",
    "    diff = {'U': (-1,0), 'D': (1,0), 'R': (0,1), 'L': (0,-1)}\n",
    "    for l in lines:\n",
    "        dir, num = l.split(' ')\n",
    "        num = int(num)\n",
    "\n",
    "        # is diagonal\n",
    "        for _ in range(num):\n",
    "            delta_r, delta_c = diff[dir]\n",
    "            hr, hc = knots[0]\n",
    "            hr += delta_r\n",
    "            hc += delta_c\n",
    "            knots[0] = [hr,hc]\n",
    "            for i in range(1,10):\n",
    "                prev_r, prev_c = knots[i-1]\n",
    "                curr_r, curr_c = knots[i]\n",
    "                if abs(prev_r-curr_r) >=2:\n",
    "                    if abs(prev_c-curr_c):\n",
    "               \n",
    "                        if curr_c > prev_c:\n",
    "                            curr_c -= 1\n",
    "                        else:\n",
    "                            curr_c += 1\n",
    "                        # only move tr to be one closer\n",
    "                    if prev_r > curr_r:\n",
    "                        curr_r += 1\n",
    "                    else:\n",
    "                        curr_r -= 1\n",
    "\n",
    "                elif abs(prev_c-curr_c) >=2:\n",
    "                    if abs(prev_r-curr_r):\n",
    "               \n",
    "                        if curr_r > prev_r:\n",
    "                            curr_r -= 1\n",
    "                        else:\n",
    "                            curr_r += 1\n",
    "                    \n",
    "                        # only move tr to be one closer\n",
    "                    if prev_c > curr_c:\n",
    "                        curr_c += 1\n",
    "                    else:\n",
    "                        curr_c -= 1\n",
    "                knots[i] = [curr_r, curr_c]\n",
    "            lr, lc = knots[-1]\n",
    "            visited.add((lr,lc))\n",
    "\n",
    "    return len(visited)\n",
    "\n",
    "print(f'Part 1 Test Output: {part1(test)}' )\n",
    "print(f'Part 1 ACTUAL: {part1(LINES)}' )\n",
    "\n",
    "\n"
   ]
  }
 ],
 "metadata": {
  "kernelspec": {
   "display_name": "Python 3.9.9 64-bit",
   "language": "python",
   "name": "python3"
  },
  "language_info": {
   "codemirror_mode": {
    "name": "ipython",
    "version": 3
   },
   "file_extension": ".py",
   "mimetype": "text/x-python",
   "name": "python",
   "nbconvert_exporter": "python",
   "pygments_lexer": "ipython3",
   "version": "3.9.9"
  },
  "orig_nbformat": 4,
  "vscode": {
   "interpreter": {
    "hash": "eb3e5f80766f8b140f5e88aeb0f63cfa666731890fd17e005b6327b46fa691ef"
   }
  }
 },
 "nbformat": 4,
 "nbformat_minor": 2
}
